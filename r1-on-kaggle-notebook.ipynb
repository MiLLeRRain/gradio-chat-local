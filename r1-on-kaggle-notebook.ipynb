{
 "cells": [
  {
   "cell_type": "code",
   "execution_count": null,
   "metadata": {
    "_cell_guid": "b1076dfc-b9ad-4769-8c92-a6c4dae69d19",
    "_uuid": "8f2839f25d086af736a60e9eeb907d3b93b6e0e5",
    "execution": {
     "iopub.execute_input": "2025-02-11T10:06:13.604098Z",
     "iopub.status.busy": "2025-02-11T10:06:13.603421Z",
     "iopub.status.idle": "2025-02-11T10:06:13.615770Z",
     "shell.execute_reply": "2025-02-11T10:06:13.614697Z",
     "shell.execute_reply.started": "2025-02-11T10:06:13.604069Z"
    },
    "trusted": true
   },
   "outputs": [],
   "source": [
    "# This Python 3 environment comes with many helpful analytics libraries installed\n",
    "# It is defined by the kaggle/python Docker image: https://github.com/kaggle/docker-python\n",
    "# For example, here's several helpful packages to load\n",
    "\n",
    "import numpy as np # linear algebra\n",
    "import pandas as pd # data processing, CSV file I/O (e.g. pd.read_csv)\n",
    "\n",
    "# Input data files are available in the read-only \"../input/\" directory\n",
    "# For example, running this (by clicking run or pressing Shift+Enter) will list all files under the input directory\n",
    "\n",
    "import os\n",
    "for dirname, _, filenames in os.walk('/kaggle/input'):\n",
    "    for filename in filenames:\n",
    "        print(os.path.join(dirname, filename))\n",
    "\n",
    "\n",
    "# You can write up to 20GB to the current directory (/kaggle/working/) that gets preserved as output when you create a version using \"Save & Run All\" \n",
    "# You can also write temporary files to /kaggle/temp/, but they won't be saved outside of the current session"
   ]
  },
  {
   "cell_type": "code",
   "execution_count": null,
   "metadata": {
    "_kg_hide-output": false,
    "execution": {
     "iopub.execute_input": "2025-02-11T12:01:30.516471Z",
     "iopub.status.busy": "2025-02-11T12:01:30.516098Z",
     "iopub.status.idle": "2025-02-11T12:01:55.977559Z",
     "shell.execute_reply": "2025-02-11T12:01:55.976713Z",
     "shell.execute_reply.started": "2025-02-11T12:01:30.516442Z"
    },
    "trusted": true
   },
   "outputs": [],
   "source": [
    "!pip install gradio\n",
    "!pip install duckduckgo_search\n",
    "#!pip install faiss-cpu\n",
    "#!pip install faiss-gpu\n"
   ]
  },
  {
   "cell_type": "markdown",
   "metadata": {},
   "source": [
    "## **Download models**"
   ]
  },
  {
   "cell_type": "code",
   "execution_count": 10,
   "metadata": {
    "execution": {
     "iopub.execute_input": "2025-02-11T10:05:46.539787Z",
     "iopub.status.busy": "2025-02-11T10:05:46.539057Z",
     "iopub.status.idle": "2025-02-11T10:05:50.666512Z",
     "shell.execute_reply": "2025-02-11T10:05:50.665308Z",
     "shell.execute_reply.started": "2025-02-11T10:05:46.539751Z"
    },
    "trusted": true
   },
   "outputs": [
    {
     "name": "stdout",
     "output_type": "stream",
     "text": [
      "Path to model files: /kaggle/input/deepseek-r1/transformers/deepseek-r1-distill-qwen-7b/1\n"
     ]
    }
   ],
   "source": [
    "import kagglehub\n",
    "\n",
    "# Download latest version\n",
    "path = kagglehub.model_download(\"deepseek-ai/deepseek-r1/transformers/deepseek-r1-distill-qwen-7b\")\n",
    "\n",
    "print(\"Path to model files:\", path)"
   ]
  },
  {
   "cell_type": "markdown",
   "metadata": {},
   "source": [
    "## Loading Model and tokenizer using the Transformers library\n"
   ]
  },
  {
   "cell_type": "code",
   "execution_count": null,
   "metadata": {
    "execution": {
     "iopub.execute_input": "2025-02-11T10:14:30.118316Z",
     "iopub.status.busy": "2025-02-11T10:14:30.118049Z",
     "iopub.status.idle": "2025-02-11T10:16:55.706206Z",
     "shell.execute_reply": "2025-02-11T10:16:55.705531Z",
     "shell.execute_reply.started": "2025-02-11T10:14:30.118295Z"
    },
    "trusted": true
   },
   "outputs": [],
   "source": [
    "from transformers import AutoModelForCausalLM, AutoTokenizer\n",
    "\n",
    "model_folder = \"/kaggle/input/deepseek-r1/transformers/deepseek-r1-distill-qwen-7b/1\"\n",
    "model_name = model_folder\n",
    "print(model_name, ' - model')\n",
    "#\"Qwen/Qwen2.5-7B-Instruct\"\n",
    "\n",
    "model = AutoModelForCausalLM.from_pretrained(\n",
    "    model_name,\n",
    "    torch_dtype=\"auto\",\n",
    "    device_map=\"cuda\"\n",
    ")\n",
    "tokenizer = AutoTokenizer.from_pretrained(model_name)\n"
   ]
  },
  {
   "cell_type": "markdown",
   "metadata": {},
   "source": [
    "## No RAG, search only"
   ]
  },
  {
   "attachments": {},
   "cell_type": "raw",
   "metadata": {},
   "source": []
  },
  {
   "cell_type": "code",
   "execution_count": null,
   "metadata": {
    "execution": {
     "iopub.execute_input": "2025-02-11T12:02:08.852789Z",
     "iopub.status.busy": "2025-02-11T12:02:08.852482Z",
     "iopub.status.idle": "2025-02-11T12:02:20.687952Z",
     "shell.execute_reply": "2025-02-11T12:02:20.686881Z",
     "shell.execute_reply.started": "2025-02-11T12:02:08.852765Z"
    },
    "trusted": true
   },
   "outputs": [],
   "source": [
    "import os\n",
    "import time\n",
    "import torch\n",
    "import gradio as gr\n",
    "from transformers import AutoModelForCausalLM, AutoTokenizer\n",
    "from duckduckgo_search import DDGS  # 请确保已安装 duckduckgo_search\n",
    "\n",
    "# ------------------------------\n",
    "# 1. 主生成模型加载部分\n",
    "# ------------------------------\n",
    "model_parent_folder = \"/kaggle/input/deepseek-r1/transformers\"\n",
    "available_models = [d for d in os.listdir(model_parent_folder) \n",
    "                    if os.path.isdir(os.path.join(model_parent_folder, d))]\n",
    "print(\"可用模型：\", available_models)\n",
    "\n",
    "def load_main_model(selected_model):\n",
    "    # 假设每个模型目录下都有一个版本目录“1”\n",
    "    model_path = os.path.join(model_parent_folder, selected_model, \"1\")\n",
    "    model = AutoModelForCausalLM.from_pretrained(\n",
    "        model_path,\n",
    "        torch_dtype=\"auto\",\n",
    "        device_map=\"cuda\"\n",
    "    )\n",
    "    tokenizer = AutoTokenizer.from_pretrained(model_path)\n",
    "    return model, tokenizer\n",
    "\n",
    "main_model_cache = {}\n",
    "\n",
    "# ------------------------------\n",
    "# 2. 外部搜索接口（使用 DuckDuckGo 的 DDGS）\n",
    "# ------------------------------\n",
    "def external_api_search(query):\n",
    "    context = \"\"\n",
    "    with DDGS() as ddgs:\n",
    "        results = ddgs.text(query, max_results=5)  # 返回前5个结果\n",
    "    if results:\n",
    "        for res in results:\n",
    "            context += res.get(\"body\", \"\") + \"\\n\"\n",
    "    return context\n",
    "\n",
    "# ------------------------------\n",
    "# 3. 分块生成函数（分段生成策略）\n",
    "# ------------------------------\n",
    "def chunk_generation(prompt, model, tokenizer, max_chunk=512, max_iter=4):\n",
    "    full_output = \"\"\n",
    "    current_prompt = prompt\n",
    "    for _ in range(max_iter):\n",
    "        inputs = tokenizer(current_prompt, return_tensors=\"pt\").to(model.device)\n",
    "        input_length = inputs.input_ids.shape[1]\n",
    "        max_new_tokens = min(max_chunk, 2048 - input_length)  # 根据输入长度自动调整\n",
    "        outputs = model.generate(\n",
    "            **inputs,\n",
    "            max_new_tokens=max_new_tokens,         # 限制生成的新 token 数量\n",
    "            min_length=10,                         # 设置最小生成长度\n",
    "            do_sample=True,                        # 启用采样\n",
    "            temperature=0.7,                       # 控制随机性\n",
    "            top_k=50,                              # 限制采样范围\n",
    "            top_p=0.95,                            # 核采样\n",
    "            num_beams=3,                           # 集束搜索\n",
    "            early_stopping=True,                   # 启用提前终止\n",
    "            repetition_penalty=1.2,                # 减少重复\n",
    "            no_repeat_ngram_size=3,                # 禁止重复 n-gram\n",
    "            use_cache=True,                        # 启用缓存加速\n",
    "            pad_token_id=model.config.eos_token_id,  # 使用 EOS token 作为 padding\n",
    "            output_scores=False,\n",
    "            output_attentions=False,\n",
    "            output_hidden_states=False,\n",
    "            num_return_sequences=1\n",
    "        )\n",
    "        chunk = tokenizer.decode(outputs[0], skip_special_tokens=True)\n",
    "        full_output += chunk\n",
    "        if model.config.eos_token_id in outputs[0]:\n",
    "            break\n",
    "        current_prompt = full_output\n",
    "    return full_output\n",
    "\n",
    "# ------------------------------\n",
    "# 4. 混合生成函数（只使用主模型和联网搜索，不使用 RAG 功能）\n",
    "# 并同时返回生成文本和统计信息\n",
    "# ------------------------------\n",
    "def hybrid_generation(query, model_choice, use_external_search, use_chunk_generation):\n",
    "    # 加载用户选择的主模型（使用缓存）\n",
    "    if model_choice not in main_model_cache:\n",
    "        main_model_cache[model_choice] = load_main_model(model_choice)\n",
    "    main_model, main_tokenizer = main_model_cache[model_choice]\n",
    "    \n",
    "    # 如果启用了联网搜索，则调用 DuckDuckGo 获取上下文\n",
    "    if use_external_search:\n",
    "        search_context = external_api_search(query)\n",
    "    else:\n",
    "        search_context = \"\"\n",
    "    \n",
    "    combined_query = \"\"\n",
    "    if search_context:\n",
    "        combined_query += f\"搜索上下文: {search_context}\\n\"\n",
    "    combined_query += f\"原问题: {query}\"\n",
    "    \n",
    "    # 开始计时\n",
    "    start_time = time.time()\n",
    "    \n",
    "    if use_chunk_generation:\n",
    "        reply = chunk_generation(combined_query, main_model, main_tokenizer, max_chunk=512, max_iter=4)\n",
    "    else:\n",
    "        inputs = main_tokenizer(combined_query, return_tensors=\"pt\").to(main_model.device)\n",
    "        input_length = inputs.input_ids.shape[1]\n",
    "        max_new_tokens = min(800, 2048 - input_length)  # 根据输入长度自动调整\n",
    "        outputs = main_model.generate(\n",
    "            **inputs,\n",
    "            max_new_tokens=max_new_tokens,         # 限制生成的新 token 数量\n",
    "            min_length=10,                         # 设置最小生成长度\n",
    "            do_sample=True,                        # 启用采样\n",
    "            temperature=0.7,                       # 控制随机性\n",
    "            top_k=50,                              # 限制采样范围\n",
    "            top_p=0.95,                            # 核采样\n",
    "            num_beams=3,                           # 集束搜索\n",
    "            early_stopping=True,                   # 启用提前终止\n",
    "            repetition_penalty=1.2,                # 减少重复\n",
    "            no_repeat_ngram_size=3,                # 禁止重复 n-gram\n",
    "            use_cache=True,                        # 启用缓存加速\n",
    "            pad_token_id=main_model.config.eos_token_id,  # 使用 EOS token 作为 padding\n",
    "            output_scores=False,\n",
    "            output_attentions=False,\n",
    "            output_hidden_states=False,\n",
    "            num_return_sequences=1\n",
    "        )\n",
    "        reply = main_tokenizer.decode(outputs[0], skip_special_tokens=True)\n",
    "    \n",
    "    elapsed_time = time.time() - start_time\n",
    "    # 获取生成的 token 数量\n",
    "    # 注意：如果使用分块生成策略，需要另外统计 token 数量\n",
    "    tokens_generated = outputs.shape[-1] if not use_chunk_generation else len(main_tokenizer.encode(reply))\n",
    "    stats = (\n",
    "        f\"生成 token 数量: {tokens_generated}\\n\"\n",
    "        f\"生成耗时: {elapsed_time:.2f} 秒\\n\"\n",
    "        f\"生成速度: {tokens_generated/elapsed_time:.2f} tokens/second\"\n",
    "    )\n",
    "\n",
    "    # 生成完成后尝试清理缓存\n",
    "    torch.cuda.empty_cache()\n",
    "    \n",
    "    # 返回一个 tuple，第一个元素为最终回答，第二个元素为统计信息\n",
    "    return \"最终回答：\" + reply, stats\n",
    "\n",
    "# ------------------------------\n",
    "# 5. 构建 Gradio 界面\n",
    "# ------------------------------\n",
    "# 这里我们设置两个输出组件：一个显示回答，一个显示统计信息\n",
    "interface = gr.Interface(\n",
    "    fn=hybrid_generation,\n",
    "    inputs=[\n",
    "        gr.Textbox(lines=2, placeholder=\"请输入你的问题...\"),\n",
    "        gr.Dropdown(choices=available_models, label=\"选择主模型\"),\n",
    "        gr.Checkbox(label=\"启用 DuckDuckGo 联网搜索\", value=True),\n",
    "        gr.Checkbox(label=\"启用分块生成策略\", value=False)\n",
    "    ],\n",
    "    outputs=[\n",
    "        gr.Textbox(label=\"生成回答\"),\n",
    "        gr.Textbox(label=\"统计信息\")\n",
    "    ],\n",
    "    title=\"混合对话生成系统\",\n",
    "    description=\"选择主模型、是否启用联网搜索和分块生成策略，系统将整合搜索上下文和动态生成参数生成最终回复，并显示生成统计信息。\"\n",
    ")\n",
    "\n",
    "interface.launch(share=True)\n"
   ]
  },
  {
   "cell_type": "code",
   "execution_count": null,
   "metadata": {
    "trusted": true
   },
   "outputs": [],
   "source": []
  }
 ],
 "metadata": {
  "kaggle": {
   "accelerator": "gpu",
   "dataSources": [
    {
     "modelId": 225262,
     "modelInstanceId": 204046,
     "sourceId": 238914,
     "sourceType": "modelInstanceVersion"
    }
   ],
   "dockerImageVersionId": 30887,
   "isGpuEnabled": true,
   "isInternetEnabled": true,
   "language": "python",
   "sourceType": "notebook"
  },
  "kernelspec": {
   "display_name": "Python 3",
   "language": "python",
   "name": "python3"
  },
  "language_info": {
   "codemirror_mode": {
    "name": "ipython",
    "version": 3
   },
   "file_extension": ".py",
   "mimetype": "text/x-python",
   "name": "python",
   "nbconvert_exporter": "python",
   "pygments_lexer": "ipython3",
   "version": "3.10.12"
  }
 },
 "nbformat": 4,
 "nbformat_minor": 4
}
